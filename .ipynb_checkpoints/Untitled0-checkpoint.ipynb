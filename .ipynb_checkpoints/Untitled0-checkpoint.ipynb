{
 "metadata": {
  "name": "",
  "signature": "sha256:b8de0ac8a0cb012f1ebcdf0975ee18deb4eb48e3f9bdd55fccba15be9fb07ad2"
 },
 "nbformat": 3,
 "nbformat_minor": 0,
 "worksheets": []
}